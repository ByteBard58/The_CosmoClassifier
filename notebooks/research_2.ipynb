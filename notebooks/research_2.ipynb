{
 "cells": [
  {
   "cell_type": "markdown",
   "id": "b56d52ff",
   "metadata": {},
   "source": [
    "*This notebook is a continued version of `research_RF.ipynb` notebook. Please read that first.*"
   ]
  },
  {
   "cell_type": "markdown",
   "id": "2d4a4c09",
   "metadata": {},
   "source": [
    "# The Problem"
   ]
  },
  {
   "cell_type": "markdown",
   "id": "94f9c4fa",
   "metadata": {
    "vscode": {
     "languageId": "plaintext"
    }
   },
   "source": [
    "At the time of writing this, I have already trained the model, developed the front-end and the web app. Now, I have realized that putting 33 feature columns as input is a bad call. This will be a fraustrating experience for any user. So, in this notebook, I am going to reduce some features and feature-enginner if necessary."
   ]
  },
  {
   "cell_type": "markdown",
   "id": "1c7f754d",
   "metadata": {},
   "source": [
    "**Importing modules**"
   ]
  },
  {
   "cell_type": "code",
   "execution_count": 74,
   "id": "75b129e8",
   "metadata": {},
   "outputs": [],
   "source": [
    "from sklearn.ensemble import RandomForestClassifier\n",
    "from sklearn.decomposition import PCA\n",
    "from sklearn.discriminant_analysis import LinearDiscriminantAnalysis as LDA\n",
    "from sklearn.model_selection import cross_val_score,KFold,train_test_split\n",
    "from sklearn.preprocessing import StandardScaler\n",
    "from sklearn.impute import SimpleImputer\n",
    "from sklearn.feature_selection import SequentialFeatureSelector\n",
    "from sklearn.pipeline import Pipeline\n",
    "import numpy as np\n",
    "import pandas as pd"
   ]
  },
  {
   "cell_type": "markdown",
   "id": "4ede7e15",
   "metadata": {},
   "source": [
    "## Basic Preprocessing"
   ]
  },
  {
   "cell_type": "markdown",
   "id": "b34e403f",
   "metadata": {},
   "source": [
    "Importing the dataset"
   ]
  },
  {
   "cell_type": "code",
   "execution_count": 75,
   "id": "077333af",
   "metadata": {},
   "outputs": [
    {
     "data": {
      "text/plain": [
       "Index(['objid', 'specobjid', 'ra', 'dec', 'u', 'g', 'r', 'i', 'z', 'run',\n",
       "       'rerun', 'camcol', 'field', 'plate', 'mjd', 'fiberid', 'petroRad_u',\n",
       "       'petroRad_g', 'petroRad_i', 'petroRad_r', 'petroRad_z', 'petroFlux_u',\n",
       "       'petroFlux_g', 'petroFlux_i', 'petroFlux_r', 'petroFlux_z',\n",
       "       'petroR50_u', 'petroR50_g', 'petroR50_i', 'petroR50_r', 'petroR50_z',\n",
       "       'psfMag_u', 'psfMag_r', 'psfMag_g', 'psfMag_i', 'psfMag_z', 'expAB_u',\n",
       "       'expAB_g', 'expAB_r', 'expAB_i', 'expAB_z', 'redshift', 'class'],\n",
       "      dtype='object')"
      ]
     },
     "execution_count": 75,
     "metadata": {},
     "output_type": "execute_result"
    }
   ],
   "source": [
    "df_raw = pd.read_csv(\"Datasets/SDSS_DR18.csv\")\n",
    "df_raw.columns"
   ]
  },
  {
   "cell_type": "markdown",
   "id": "a8aabb47",
   "metadata": {},
   "source": [
    "Dropping the identifier columns which may lead to data leakage"
   ]
  },
  {
   "cell_type": "code",
   "execution_count": 76,
   "id": "7df73004",
   "metadata": {},
   "outputs": [
    {
     "data": {
      "text/plain": [
       "Index(['ra', 'dec', 'u', 'g', 'r', 'i', 'z', 'petroRad_u', 'petroRad_g',\n",
       "       'petroRad_i', 'petroRad_r', 'petroRad_z', 'petroFlux_u', 'petroFlux_g',\n",
       "       'petroFlux_i', 'petroFlux_r', 'petroFlux_z', 'petroR50_u', 'petroR50_g',\n",
       "       'petroR50_i', 'petroR50_r', 'petroR50_z', 'psfMag_u', 'psfMag_r',\n",
       "       'psfMag_g', 'psfMag_i', 'psfMag_z', 'expAB_u', 'expAB_g', 'expAB_r',\n",
       "       'expAB_i', 'expAB_z', 'redshift', 'class'],\n",
       "      dtype='object')"
      ]
     },
     "execution_count": 76,
     "metadata": {},
     "output_type": "execute_result"
    }
   ],
   "source": [
    "df_raw = df_raw.drop(columns=[\"objid\", \"specobjid\", \"run\", \"rerun\", \"camcol\", \"field\", \"plate\", \"mjd\", \"fiberid\"])\n",
    "df_raw.columns"
   ]
  },
  {
   "cell_type": "markdown",
   "id": "4eee6211",
   "metadata": {},
   "source": [
    "Identifying and mapping the classes"
   ]
  },
  {
   "cell_type": "code",
   "execution_count": 77,
   "id": "400a682c",
   "metadata": {},
   "outputs": [
    {
     "name": "stdout",
     "output_type": "stream",
     "text": [
      "class\n",
      "GALAXY    52343\n",
      "STAR      37232\n",
      "QSO       10425\n",
      "Name: count, dtype: int64\n"
     ]
    }
   ],
   "source": [
    "print(df_raw[\"class\"].value_counts())\n",
    "df_1 = df_raw.copy()"
   ]
  },
  {
   "cell_type": "code",
   "execution_count": 78,
   "id": "bb77622d",
   "metadata": {},
   "outputs": [
    {
     "data": {
      "text/plain": [
       "0    0\n",
       "1    1\n",
       "2    0\n",
       "3    1\n",
       "4    1\n",
       "5    1\n",
       "6    1\n",
       "7    0\n",
       "8    0\n",
       "9    1\n",
       "Name: class, dtype: int64"
      ]
     },
     "execution_count": 78,
     "metadata": {},
     "output_type": "execute_result"
    }
   ],
   "source": [
    "df_1[\"class\"] = df_1[\"class\"].map({\n",
    "  \"GALAXY\":0,\n",
    "  \"STAR\":1,\n",
    "  \"QSO\":2\n",
    "})\n",
    "df_1[\"class\"].head(10)"
   ]
  },
  {
   "cell_type": "markdown",
   "id": "744e4434",
   "metadata": {},
   "source": [
    "## Feature Reduction and Engineering"
   ]
  },
  {
   "cell_type": "markdown",
   "id": "63210a20",
   "metadata": {},
   "source": [
    "Dropping all raw fluxes, all concentration indices, all radii, all error terms, and all duplicate magnitudes. I have copied a subset of features from `df_1` to `df_2`. This subset excludes all of those features."
   ]
  },
  {
   "cell_type": "code",
   "execution_count": 79,
   "id": "7bcc8335",
   "metadata": {},
   "outputs": [],
   "source": [
    "df_2 = df_1[[\"ra\",\"dec\",\"redshift\",\"u\",\"g\",\"r\",\"i\",\"z\",\"psfMag_r\",\"class\"]].copy()"
   ]
  },
  {
   "cell_type": "markdown",
   "id": "dc2774f9",
   "metadata": {},
   "source": [
    "Feature engineering color contrast columns"
   ]
  },
  {
   "cell_type": "code",
   "execution_count": 80,
   "id": "c5088740",
   "metadata": {},
   "outputs": [],
   "source": [
    "df_2[\"u_g_color\"] = df_2[\"u\"] - df_2[\"g\"]\n",
    "df_2[\"g_r_color\"] = df_2[\"g\"] - df_2[\"r\"]\n",
    "df_2[\"r_i_color\"] = df_2[\"r\"] - df_2[\"i\"]\n",
    "df_2[\"i_z_color\"] = df_2[\"i\"] - df_2[\"z\"]"
   ]
  },
  {
   "cell_type": "markdown",
   "id": "f6801bfb",
   "metadata": {},
   "source": [
    "Dropping the raw color features"
   ]
  },
  {
   "cell_type": "code",
   "execution_count": 81,
   "id": "3f0a5b5e",
   "metadata": {},
   "outputs": [
    {
     "data": {
      "text/html": [
       "<div>\n",
       "<style scoped>\n",
       "    .dataframe tbody tr th:only-of-type {\n",
       "        vertical-align: middle;\n",
       "    }\n",
       "\n",
       "    .dataframe tbody tr th {\n",
       "        vertical-align: top;\n",
       "    }\n",
       "\n",
       "    .dataframe thead th {\n",
       "        text-align: right;\n",
       "    }\n",
       "</style>\n",
       "<table border=\"1\" class=\"dataframe\">\n",
       "  <thead>\n",
       "    <tr style=\"text-align: right;\">\n",
       "      <th></th>\n",
       "      <th>ra</th>\n",
       "      <th>dec</th>\n",
       "      <th>redshift</th>\n",
       "      <th>u</th>\n",
       "      <th>g</th>\n",
       "      <th>r</th>\n",
       "      <th>i</th>\n",
       "      <th>z</th>\n",
       "      <th>psfMag_r</th>\n",
       "      <th>class</th>\n",
       "      <th>u_g_color</th>\n",
       "      <th>g_r_color</th>\n",
       "      <th>r_i_color</th>\n",
       "      <th>i_z_color</th>\n",
       "    </tr>\n",
       "  </thead>\n",
       "  <tbody>\n",
       "    <tr>\n",
       "      <th>0</th>\n",
       "      <td>184.950869</td>\n",
       "      <td>0.733068</td>\n",
       "      <td>0.041691</td>\n",
       "      <td>18.87062</td>\n",
       "      <td>17.59612</td>\n",
       "      <td>17.11245</td>\n",
       "      <td>16.83899</td>\n",
       "      <td>16.70908</td>\n",
       "      <td>19.50324</td>\n",
       "      <td>0</td>\n",
       "      <td>1.27450</td>\n",
       "      <td>0.48367</td>\n",
       "      <td>0.27346</td>\n",
       "      <td>0.12991</td>\n",
       "    </tr>\n",
       "    <tr>\n",
       "      <th>1</th>\n",
       "      <td>185.729201</td>\n",
       "      <td>0.679704</td>\n",
       "      <td>-0.000814</td>\n",
       "      <td>19.59560</td>\n",
       "      <td>19.92153</td>\n",
       "      <td>20.34448</td>\n",
       "      <td>20.66213</td>\n",
       "      <td>20.59599</td>\n",
       "      <td>20.34491</td>\n",
       "      <td>1</td>\n",
       "      <td>-0.32593</td>\n",
       "      <td>-0.42295</td>\n",
       "      <td>-0.31765</td>\n",
       "      <td>0.06614</td>\n",
       "    </tr>\n",
       "  </tbody>\n",
       "</table>\n",
       "</div>"
      ],
      "text/plain": [
       "           ra       dec  redshift         u         g         r         i  \\\n",
       "0  184.950869  0.733068  0.041691  18.87062  17.59612  17.11245  16.83899   \n",
       "1  185.729201  0.679704 -0.000814  19.59560  19.92153  20.34448  20.66213   \n",
       "\n",
       "          z  psfMag_r  class  u_g_color  g_r_color  r_i_color  i_z_color  \n",
       "0  16.70908  19.50324      0    1.27450    0.48367    0.27346    0.12991  \n",
       "1  20.59599  20.34491      1   -0.32593   -0.42295   -0.31765    0.06614  "
      ]
     },
     "execution_count": 81,
     "metadata": {},
     "output_type": "execute_result"
    }
   ],
   "source": [
    "df_2.head(2)"
   ]
  },
  {
   "cell_type": "code",
   "execution_count": 82,
   "id": "7730e27f",
   "metadata": {},
   "outputs": [],
   "source": [
    "df_2 = df_2.drop(columns=[\"u\",\"g\",\"r\",\"i\",\"z\"])"
   ]
  },
  {
   "cell_type": "code",
   "execution_count": 83,
   "id": "0d8ea655",
   "metadata": {},
   "outputs": [
    {
     "data": {
      "text/html": [
       "<div>\n",
       "<style scoped>\n",
       "    .dataframe tbody tr th:only-of-type {\n",
       "        vertical-align: middle;\n",
       "    }\n",
       "\n",
       "    .dataframe tbody tr th {\n",
       "        vertical-align: top;\n",
       "    }\n",
       "\n",
       "    .dataframe thead th {\n",
       "        text-align: right;\n",
       "    }\n",
       "</style>\n",
       "<table border=\"1\" class=\"dataframe\">\n",
       "  <thead>\n",
       "    <tr style=\"text-align: right;\">\n",
       "      <th></th>\n",
       "      <th>ra</th>\n",
       "      <th>dec</th>\n",
       "      <th>redshift</th>\n",
       "      <th>psfMag_r</th>\n",
       "      <th>class</th>\n",
       "      <th>u_g_color</th>\n",
       "      <th>g_r_color</th>\n",
       "      <th>r_i_color</th>\n",
       "      <th>i_z_color</th>\n",
       "    </tr>\n",
       "  </thead>\n",
       "  <tbody>\n",
       "    <tr>\n",
       "      <th>0</th>\n",
       "      <td>184.950869</td>\n",
       "      <td>0.733068</td>\n",
       "      <td>0.041691</td>\n",
       "      <td>19.50324</td>\n",
       "      <td>0</td>\n",
       "      <td>1.27450</td>\n",
       "      <td>0.48367</td>\n",
       "      <td>0.27346</td>\n",
       "      <td>0.12991</td>\n",
       "    </tr>\n",
       "    <tr>\n",
       "      <th>1</th>\n",
       "      <td>185.729201</td>\n",
       "      <td>0.679704</td>\n",
       "      <td>-0.000814</td>\n",
       "      <td>20.34491</td>\n",
       "      <td>1</td>\n",
       "      <td>-0.32593</td>\n",
       "      <td>-0.42295</td>\n",
       "      <td>-0.31765</td>\n",
       "      <td>0.06614</td>\n",
       "    </tr>\n",
       "  </tbody>\n",
       "</table>\n",
       "</div>"
      ],
      "text/plain": [
       "           ra       dec  redshift  psfMag_r  class  u_g_color  g_r_color  \\\n",
       "0  184.950869  0.733068  0.041691  19.50324      0    1.27450    0.48367   \n",
       "1  185.729201  0.679704 -0.000814  20.34491      1   -0.32593   -0.42295   \n",
       "\n",
       "   r_i_color  i_z_color  \n",
       "0    0.27346    0.12991  \n",
       "1   -0.31765    0.06614  "
      ]
     },
     "execution_count": 83,
     "metadata": {},
     "output_type": "execute_result"
    }
   ],
   "source": [
    "df_2.head(2)"
   ]
  },
  {
   "cell_type": "markdown",
   "id": "e1be8e76",
   "metadata": {},
   "source": [
    "Moving the class column to the end"
   ]
  },
  {
   "cell_type": "code",
   "execution_count": 84,
   "id": "f3d1a893",
   "metadata": {},
   "outputs": [],
   "source": [
    "popped_class = df_2.pop(\"class\")\n",
    "df_2.insert(len(df_2.columns), \"class\", popped_class)"
   ]
  },
  {
   "cell_type": "code",
   "execution_count": 85,
   "id": "8a068db7",
   "metadata": {},
   "outputs": [
    {
     "data": {
      "text/html": [
       "<div>\n",
       "<style scoped>\n",
       "    .dataframe tbody tr th:only-of-type {\n",
       "        vertical-align: middle;\n",
       "    }\n",
       "\n",
       "    .dataframe tbody tr th {\n",
       "        vertical-align: top;\n",
       "    }\n",
       "\n",
       "    .dataframe thead th {\n",
       "        text-align: right;\n",
       "    }\n",
       "</style>\n",
       "<table border=\"1\" class=\"dataframe\">\n",
       "  <thead>\n",
       "    <tr style=\"text-align: right;\">\n",
       "      <th></th>\n",
       "      <th>ra</th>\n",
       "      <th>dec</th>\n",
       "      <th>redshift</th>\n",
       "      <th>psfMag_r</th>\n",
       "      <th>u_g_color</th>\n",
       "      <th>g_r_color</th>\n",
       "      <th>r_i_color</th>\n",
       "      <th>i_z_color</th>\n",
       "      <th>class</th>\n",
       "    </tr>\n",
       "  </thead>\n",
       "  <tbody>\n",
       "    <tr>\n",
       "      <th>0</th>\n",
       "      <td>184.950869</td>\n",
       "      <td>0.733068</td>\n",
       "      <td>0.041691</td>\n",
       "      <td>19.50324</td>\n",
       "      <td>1.27450</td>\n",
       "      <td>0.48367</td>\n",
       "      <td>0.27346</td>\n",
       "      <td>0.12991</td>\n",
       "      <td>0</td>\n",
       "    </tr>\n",
       "    <tr>\n",
       "      <th>1</th>\n",
       "      <td>185.729201</td>\n",
       "      <td>0.679704</td>\n",
       "      <td>-0.000814</td>\n",
       "      <td>20.34491</td>\n",
       "      <td>-0.32593</td>\n",
       "      <td>-0.42295</td>\n",
       "      <td>-0.31765</td>\n",
       "      <td>0.06614</td>\n",
       "      <td>1</td>\n",
       "    </tr>\n",
       "    <tr>\n",
       "      <th>2</th>\n",
       "      <td>185.687690</td>\n",
       "      <td>0.823480</td>\n",
       "      <td>0.113069</td>\n",
       "      <td>18.54832</td>\n",
       "      <td>1.38530</td>\n",
       "      <td>0.78298</td>\n",
       "      <td>0.44434</td>\n",
       "      <td>0.29830</td>\n",
       "      <td>0</td>\n",
       "    </tr>\n",
       "  </tbody>\n",
       "</table>\n",
       "</div>"
      ],
      "text/plain": [
       "           ra       dec  redshift  psfMag_r  u_g_color  g_r_color  r_i_color  \\\n",
       "0  184.950869  0.733068  0.041691  19.50324    1.27450    0.48367    0.27346   \n",
       "1  185.729201  0.679704 -0.000814  20.34491   -0.32593   -0.42295   -0.31765   \n",
       "2  185.687690  0.823480  0.113069  18.54832    1.38530    0.78298    0.44434   \n",
       "\n",
       "   i_z_color  class  \n",
       "0    0.12991      0  \n",
       "1    0.06614      1  \n",
       "2    0.29830      0  "
      ]
     },
     "execution_count": 85,
     "metadata": {},
     "output_type": "execute_result"
    }
   ],
   "source": [
    "df_2.head(3)"
   ]
  },
  {
   "cell_type": "markdown",
   "id": "a7cecb1c",
   "metadata": {},
   "source": [
    "Copying `df_2` into the main dataframe and separating feature and target columns"
   ]
  },
  {
   "cell_type": "code",
   "execution_count": 86,
   "id": "46fabf27",
   "metadata": {},
   "outputs": [
    {
     "data": {
      "text/plain": [
       "Index(['ra', 'dec', 'redshift', 'psfMag_r', 'u_g_color', 'g_r_color',\n",
       "       'r_i_color', 'i_z_color'],\n",
       "      dtype='object')"
      ]
     },
     "execution_count": 86,
     "metadata": {},
     "output_type": "execute_result"
    }
   ],
   "source": [
    "df = df_2.copy()\n",
    "x = df.iloc[:,:-1].to_numpy()\n",
    "y = df.iloc[:,-1].to_numpy()\n",
    "\n",
    "feature_columns = df.columns[:-1]\n",
    "feature_columns"
   ]
  },
  {
   "cell_type": "markdown",
   "id": "1b942afb",
   "metadata": {},
   "source": [
    "## ML Preprocessing, Model training, Evaluation "
   ]
  },
  {
   "cell_type": "markdown",
   "id": "9c32cdda",
   "metadata": {},
   "source": [
    "Performing train-test split"
   ]
  },
  {
   "cell_type": "code",
   "execution_count": 87,
   "id": "ee0761ba",
   "metadata": {},
   "outputs": [],
   "source": [
    "x_train,x_test,y_train,y_test = train_test_split(\n",
    "  x,y,test_size=2/10,random_state=120,shuffle=True,stratify=y)"
   ]
  },
  {
   "cell_type": "markdown",
   "id": "09909f26",
   "metadata": {},
   "source": [
    "Building Pipeline (PCA)"
   ]
  },
  {
   "cell_type": "code",
   "execution_count": 88,
   "id": "30c9e74a",
   "metadata": {},
   "outputs": [
    {
     "name": "stdout",
     "output_type": "stream",
     "text": [
      "[0.96295 0.9646  0.96155 0.97585 0.96245]\n",
      "Average = 0.96548\n"
     ]
    }
   ],
   "source": [
    "rf_model = RandomForestClassifier(\n",
    "  n_estimators=150,max_depth=10,random_state=103,class_weight=\"balanced\",n_jobs=-1)\n",
    "pca = PCA(n_components=8,random_state=19)\n",
    "\n",
    "preprocessor = Pipeline([\n",
    "  (\"imputation\",SimpleImputer(strategy=\"median\")),\n",
    "  (\"scale\", StandardScaler()),\n",
    "  (\"pca\",pca)\n",
    "])\n",
    "pipe = Pipeline([\n",
    "  (\"preprocessor\",preprocessor),\n",
    "  (\"model\",rf_model)\n",
    "])\n",
    "\n",
    "kfold = KFold(n_splits=5,shuffle=True,random_state=10)\n",
    "score = cross_val_score(pipe,x,y,cv=kfold)\n",
    "print(score)\n",
    "print(f\"Average = {score.mean()}\")"
   ]
  },
  {
   "cell_type": "markdown",
   "id": "d21b9625",
   "metadata": {},
   "source": [
    "Building Pipeline (LDA)"
   ]
  },
  {
   "cell_type": "code",
   "execution_count": 89,
   "id": "1709282a",
   "metadata": {},
   "outputs": [
    {
     "name": "stdout",
     "output_type": "stream",
     "text": [
      "[0.95758085 0.95550956 0.96399964]\n",
      "Average = 0.9590300144916611\n"
     ]
    }
   ],
   "source": [
    "rf_model = RandomForestClassifier(\n",
    "  n_estimators=150,max_depth=10,random_state=104,class_weight=\"balanced\",n_jobs=-1)\n",
    "lda = LDA(n_components=2)    \n",
    "# There are only 2 possible values for n_components since there are only 3 classes.  \n",
    "# n_estimaors=2 gave the best score. So I kept it for the final version\n",
    "preprocessor = Pipeline([\n",
    "  (\"imputation\",SimpleImputer(strategy=\"median\")),\n",
    "  (\"scale\", StandardScaler()),\n",
    "  (\"lda\",lda)\n",
    "])\n",
    "pipe = Pipeline([\n",
    "  (\"preprocessor\",preprocessor),\n",
    "  (\"model\",rf_model)\n",
    "])\n",
    "\n",
    "kfold = KFold(n_splits=3,shuffle=True,random_state=10)\n",
    "score = cross_val_score(pipe,x,y,cv=kfold)\n",
    "print(score)\n",
    "print(f\"Average = {score.mean()}\")"
   ]
  },
  {
   "cell_type": "markdown",
   "id": "a3348f29",
   "metadata": {},
   "source": [
    "Building Pipeline (SFS)"
   ]
  },
  {
   "cell_type": "code",
   "execution_count": 90,
   "id": "83e5cade",
   "metadata": {},
   "outputs": [
    {
     "name": "stdout",
     "output_type": "stream",
     "text": [
      "[0.98716026 0.98649986 0.98745987]\n",
      "Average = 0.9870399987974201\n"
     ]
    }
   ],
   "source": [
    "rf_model = RandomForestClassifier(\n",
    "  n_estimators=150,max_depth=10,random_state=102,class_weight=\"balanced\",n_jobs=-1)\n",
    "sfs = SequentialFeatureSelector(\n",
    "  rf_model,n_features_to_select=\"auto\",tol=0.007,direction=\"forward\",cv=None)\n",
    "\n",
    "preprocessor = Pipeline([\n",
    "  (\"imputation\",SimpleImputer(strategy=\"median\")),\n",
    "  (\"scale\", StandardScaler()),\n",
    "  (\"sfs\",sfs)\n",
    "])\n",
    "pipe = Pipeline([\n",
    "  (\"preprocessor\",preprocessor),\n",
    "  (\"model\",rf_model)\n",
    "])\n",
    "\n",
    "kfold = KFold(n_splits=3,shuffle=True,random_state=10)\n",
    "score = cross_val_score(pipe,x,y,cv=kfold)\n",
    "print(score)\n",
    "print(f\"Average = {score.mean()}\")"
   ]
  },
  {
   "cell_type": "markdown",
   "id": "005924f6",
   "metadata": {},
   "source": [
    "## Summary\n",
    "By performing the feature reduction, I have successfully reduced the number of features from 32 to just 9. Obviously, this reduction comes at a cost. I tested with LDA,PCA and SFS and got the following result;\n",
    "\n",
    "| Dimensionality Reduction $\\Rightarrow$ | Principal Component Analysis | Linear Discriminant Analysis | Sequential Feature Selection |\n",
    "| :--- | :---: | :---: | :---: |\n",
    "| Before feature reduction | 0.9803 | 0.9846 | 0.9870 |\n",
    "| After feature reduction | 0.9655 | 0.9590 | 0.9870 |"
   ]
  },
  {
   "cell_type": "markdown",
   "id": "16ea811a",
   "metadata": {},
   "source": [
    "As you can see, almost all the scores decreased by around 0.2. However, SFS managed to keep the scores absolutely the same as before. This is because SFS is a feature selection method, not feature extraction. It eliminates feature columns but does not change the individual data. "
   ]
  },
  {
   "cell_type": "markdown",
   "id": "1c5c530d",
   "metadata": {},
   "source": [
    "Because of the reduced dimension, the runtime of SFS implementation also dratically reduced. "
   ]
  },
  {
   "cell_type": "markdown",
   "id": "0f3c4d55",
   "metadata": {},
   "source": [
    "So, we are going to use the RandomForest implementation with SFS dimensionality reduction in the main web app."
   ]
  }
 ],
 "metadata": {
  "kernelspec": {
   "display_name": "Python 3",
   "language": "python",
   "name": "python3"
  },
  "language_info": {
   "codemirror_mode": {
    "name": "ipython",
    "version": 3
   },
   "file_extension": ".py",
   "mimetype": "text/x-python",
   "name": "python",
   "nbconvert_exporter": "python",
   "pygments_lexer": "ipython3",
   "version": "3.13.7"
  }
 },
 "nbformat": 4,
 "nbformat_minor": 5
}
