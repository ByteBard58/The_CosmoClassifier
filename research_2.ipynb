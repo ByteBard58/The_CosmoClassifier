{
 "cells": [
  {
   "cell_type": "markdown",
   "id": "b56d52ff",
   "metadata": {},
   "source": [
    "*This notebook is a continued version of `research_RF.ipynb` notebook. Please read that first.*"
   ]
  },
  {
   "cell_type": "markdown",
   "id": "2d4a4c09",
   "metadata": {},
   "source": [
    "# The Problem"
   ]
  },
  {
   "cell_type": "markdown",
   "id": "94f9c4fa",
   "metadata": {
    "vscode": {
     "languageId": "plaintext"
    }
   },
   "source": [
    "At the time of writing this, I have already trained the model, developed the front-end and the web app. Now, I have realized that putting 33 feature columns as input is a bad call. This will be a fraustrating experience for any user. So, in this notebook, I am going to reduce some features and feature-enginner if necessary."
   ]
  },
  {
   "cell_type": "markdown",
   "id": "1c7f754d",
   "metadata": {},
   "source": [
    "**Importing modules**"
   ]
  },
  {
   "cell_type": "code",
   "execution_count": 4,
   "id": "75b129e8",
   "metadata": {},
   "outputs": [],
   "source": [
    "from sklearn.ensemble import RandomForestClassifier,VotingClassifier\n",
    "from sklearn.svm import SVC\n",
    "from sklearn.linear_model import LogisticRegression\n",
    "from xgboost import XGBClassifier\n",
    "\n",
    "from sklearn.decomposition import PCA\n",
    "from sklearn.discriminant_analysis import LinearDiscriminantAnalysis as LDA\n",
    "\n",
    "from sklearn.model_selection import train_test_split,learning_curve,RandomizedSearchCV\n",
    "from sklearn.preprocessing import StandardScaler\n",
    "from sklearn.impute import SimpleImputer\n",
    "from sklearn.metrics import classification_report\n",
    "\n",
    "from imblearn.over_sampling import SMOTE\n",
    "from imblearn.pipeline import Pipeline\n",
    "\n",
    "import numpy as np\n",
    "import pandas as pd\n",
    "from matplotlib import pyplot as plt\n",
    "import seaborn as sns"
   ]
  },
  {
   "cell_type": "markdown",
   "id": "4ede7e15",
   "metadata": {},
   "source": [
    "## Basic Preprocessing"
   ]
  },
  {
   "cell_type": "markdown",
   "id": "b34e403f",
   "metadata": {},
   "source": [
    "Importing the dataset"
   ]
  },
  {
   "cell_type": "code",
   "execution_count": 5,
   "id": "077333af",
   "metadata": {},
   "outputs": [
    {
     "data": {
      "text/plain": [
       "Index(['objid', 'specobjid', 'ra', 'dec', 'u', 'g', 'r', 'i', 'z', 'run',\n",
       "       'rerun', 'camcol', 'field', 'plate', 'mjd', 'fiberid', 'petroRad_u',\n",
       "       'petroRad_g', 'petroRad_i', 'petroRad_r', 'petroRad_z', 'petroFlux_u',\n",
       "       'petroFlux_g', 'petroFlux_i', 'petroFlux_r', 'petroFlux_z',\n",
       "       'petroR50_u', 'petroR50_g', 'petroR50_i', 'petroR50_r', 'petroR50_z',\n",
       "       'psfMag_u', 'psfMag_r', 'psfMag_g', 'psfMag_i', 'psfMag_z', 'expAB_u',\n",
       "       'expAB_g', 'expAB_r', 'expAB_i', 'expAB_z', 'redshift', 'class'],\n",
       "      dtype='object')"
      ]
     },
     "execution_count": 5,
     "metadata": {},
     "output_type": "execute_result"
    }
   ],
   "source": [
    "df_raw = pd.read_csv(\"Datasets/SDSS_DR18.csv\")\n",
    "df_raw.columns"
   ]
  },
  {
   "cell_type": "markdown",
   "id": "a8aabb47",
   "metadata": {},
   "source": [
    "Dropping the identifier columns which may lead to data leakage"
   ]
  },
  {
   "cell_type": "code",
   "execution_count": 6,
   "id": "7df73004",
   "metadata": {},
   "outputs": [
    {
     "data": {
      "text/plain": [
       "Index(['ra', 'dec', 'u', 'g', 'r', 'i', 'z', 'petroRad_u', 'petroRad_g',\n",
       "       'petroRad_i', 'petroRad_r', 'petroRad_z', 'petroFlux_u', 'petroFlux_g',\n",
       "       'petroFlux_i', 'petroFlux_r', 'petroFlux_z', 'petroR50_u', 'petroR50_g',\n",
       "       'petroR50_i', 'petroR50_r', 'petroR50_z', 'psfMag_u', 'psfMag_r',\n",
       "       'psfMag_g', 'psfMag_i', 'psfMag_z', 'expAB_u', 'expAB_g', 'expAB_r',\n",
       "       'expAB_i', 'expAB_z', 'redshift', 'class'],\n",
       "      dtype='object')"
      ]
     },
     "execution_count": 6,
     "metadata": {},
     "output_type": "execute_result"
    }
   ],
   "source": [
    "df_raw = df_raw.drop(columns=[\"objid\", \"specobjid\", \"run\", \"rerun\", \"camcol\", \"field\", \"plate\", \"mjd\", \"fiberid\"])\n",
    "df_raw.columns"
   ]
  },
  {
   "cell_type": "markdown",
   "id": "4eee6211",
   "metadata": {},
   "source": [
    "Identifying and mapping the classes"
   ]
  },
  {
   "cell_type": "code",
   "execution_count": 7,
   "id": "400a682c",
   "metadata": {},
   "outputs": [
    {
     "name": "stdout",
     "output_type": "stream",
     "text": [
      "class\n",
      "GALAXY    52343\n",
      "STAR      37232\n",
      "QSO       10425\n",
      "Name: count, dtype: int64\n"
     ]
    }
   ],
   "source": [
    "print(df_raw[\"class\"].value_counts())\n",
    "df_1 = df_raw.copy()"
   ]
  },
  {
   "cell_type": "code",
   "execution_count": 8,
   "id": "bb77622d",
   "metadata": {},
   "outputs": [
    {
     "data": {
      "text/plain": [
       "0    0\n",
       "1    1\n",
       "2    0\n",
       "3    1\n",
       "4    1\n",
       "5    1\n",
       "6    1\n",
       "7    0\n",
       "8    0\n",
       "9    1\n",
       "Name: class, dtype: int64"
      ]
     },
     "execution_count": 8,
     "metadata": {},
     "output_type": "execute_result"
    }
   ],
   "source": [
    "df_1[\"class\"] = df_1[\"class\"].map({\n",
    "  \"GALAXY\":0,\n",
    "  \"STAR\":1,\n",
    "  \"QSO\":2\n",
    "})\n",
    "df_1[\"class\"].head(10)"
   ]
  },
  {
   "cell_type": "markdown",
   "id": "744e4434",
   "metadata": {},
   "source": [
    "## Feature Reduction and Engineering"
   ]
  },
  {
   "cell_type": "markdown",
   "id": "63210a20",
   "metadata": {},
   "source": [
    "Dropping all raw fluxes, all concentration indices, all radii, all error terms, and all duplicate magnitudes. I have copied a subset of features from `df_1` to `df_2`. This subset excludes all of those features."
   ]
  },
  {
   "cell_type": "code",
   "execution_count": 9,
   "id": "7bcc8335",
   "metadata": {},
   "outputs": [],
   "source": [
    "df_2 = df_1[[\"ra\",\"dec\",\"redshift\",\"u\",\"g\",\"r\",\"i\",\"z\",\"psfMag_r\",\"class\"]].copy()"
   ]
  },
  {
   "cell_type": "markdown",
   "id": "dc2774f9",
   "metadata": {},
   "source": [
    "Feature engineering color contrast columns"
   ]
  },
  {
   "cell_type": "code",
   "execution_count": 10,
   "id": "c5088740",
   "metadata": {},
   "outputs": [],
   "source": [
    "df_2[\"u_g_color\"] = df_2[\"u\"] - df_2[\"g\"]\n",
    "df_2[\"g_r_color\"] = df_2[\"g\"] - df_2[\"r\"]\n",
    "df_2[\"r_i_color\"] = df_2[\"r\"] - df_2[\"i\"]\n",
    "df_2[\"i_z_color\"] = df_2[\"i\"] - df_2[\"z\"]"
   ]
  },
  {
   "cell_type": "markdown",
   "id": "f6801bfb",
   "metadata": {},
   "source": [
    "Dropping the raw color features"
   ]
  },
  {
   "cell_type": "code",
   "execution_count": 11,
   "id": "3f0a5b5e",
   "metadata": {},
   "outputs": [
    {
     "data": {
      "text/html": [
       "<div>\n",
       "<style scoped>\n",
       "    .dataframe tbody tr th:only-of-type {\n",
       "        vertical-align: middle;\n",
       "    }\n",
       "\n",
       "    .dataframe tbody tr th {\n",
       "        vertical-align: top;\n",
       "    }\n",
       "\n",
       "    .dataframe thead th {\n",
       "        text-align: right;\n",
       "    }\n",
       "</style>\n",
       "<table border=\"1\" class=\"dataframe\">\n",
       "  <thead>\n",
       "    <tr style=\"text-align: right;\">\n",
       "      <th></th>\n",
       "      <th>ra</th>\n",
       "      <th>dec</th>\n",
       "      <th>redshift</th>\n",
       "      <th>u</th>\n",
       "      <th>g</th>\n",
       "      <th>r</th>\n",
       "      <th>i</th>\n",
       "      <th>z</th>\n",
       "      <th>psfMag_r</th>\n",
       "      <th>class</th>\n",
       "      <th>u_g_color</th>\n",
       "      <th>g_r_color</th>\n",
       "      <th>r_i_color</th>\n",
       "      <th>i_z_color</th>\n",
       "    </tr>\n",
       "  </thead>\n",
       "  <tbody>\n",
       "    <tr>\n",
       "      <th>0</th>\n",
       "      <td>184.950869</td>\n",
       "      <td>0.733068</td>\n",
       "      <td>0.041691</td>\n",
       "      <td>18.87062</td>\n",
       "      <td>17.59612</td>\n",
       "      <td>17.11245</td>\n",
       "      <td>16.83899</td>\n",
       "      <td>16.70908</td>\n",
       "      <td>19.50324</td>\n",
       "      <td>0</td>\n",
       "      <td>1.27450</td>\n",
       "      <td>0.48367</td>\n",
       "      <td>0.27346</td>\n",
       "      <td>0.12991</td>\n",
       "    </tr>\n",
       "    <tr>\n",
       "      <th>1</th>\n",
       "      <td>185.729201</td>\n",
       "      <td>0.679704</td>\n",
       "      <td>-0.000814</td>\n",
       "      <td>19.59560</td>\n",
       "      <td>19.92153</td>\n",
       "      <td>20.34448</td>\n",
       "      <td>20.66213</td>\n",
       "      <td>20.59599</td>\n",
       "      <td>20.34491</td>\n",
       "      <td>1</td>\n",
       "      <td>-0.32593</td>\n",
       "      <td>-0.42295</td>\n",
       "      <td>-0.31765</td>\n",
       "      <td>0.06614</td>\n",
       "    </tr>\n",
       "  </tbody>\n",
       "</table>\n",
       "</div>"
      ],
      "text/plain": [
       "           ra       dec  redshift         u         g         r         i  \\\n",
       "0  184.950869  0.733068  0.041691  18.87062  17.59612  17.11245  16.83899   \n",
       "1  185.729201  0.679704 -0.000814  19.59560  19.92153  20.34448  20.66213   \n",
       "\n",
       "          z  psfMag_r  class  u_g_color  g_r_color  r_i_color  i_z_color  \n",
       "0  16.70908  19.50324      0    1.27450    0.48367    0.27346    0.12991  \n",
       "1  20.59599  20.34491      1   -0.32593   -0.42295   -0.31765    0.06614  "
      ]
     },
     "execution_count": 11,
     "metadata": {},
     "output_type": "execute_result"
    }
   ],
   "source": [
    "df_2.head(2)"
   ]
  },
  {
   "cell_type": "code",
   "execution_count": 12,
   "id": "7730e27f",
   "metadata": {},
   "outputs": [],
   "source": [
    "df_2 = df_2.drop(columns=[\"u\",\"g\",\"r\",\"i\",\"z\"])"
   ]
  },
  {
   "cell_type": "code",
   "execution_count": 13,
   "id": "0d8ea655",
   "metadata": {},
   "outputs": [
    {
     "data": {
      "text/html": [
       "<div>\n",
       "<style scoped>\n",
       "    .dataframe tbody tr th:only-of-type {\n",
       "        vertical-align: middle;\n",
       "    }\n",
       "\n",
       "    .dataframe tbody tr th {\n",
       "        vertical-align: top;\n",
       "    }\n",
       "\n",
       "    .dataframe thead th {\n",
       "        text-align: right;\n",
       "    }\n",
       "</style>\n",
       "<table border=\"1\" class=\"dataframe\">\n",
       "  <thead>\n",
       "    <tr style=\"text-align: right;\">\n",
       "      <th></th>\n",
       "      <th>ra</th>\n",
       "      <th>dec</th>\n",
       "      <th>redshift</th>\n",
       "      <th>psfMag_r</th>\n",
       "      <th>class</th>\n",
       "      <th>u_g_color</th>\n",
       "      <th>g_r_color</th>\n",
       "      <th>r_i_color</th>\n",
       "      <th>i_z_color</th>\n",
       "    </tr>\n",
       "  </thead>\n",
       "  <tbody>\n",
       "    <tr>\n",
       "      <th>0</th>\n",
       "      <td>184.950869</td>\n",
       "      <td>0.733068</td>\n",
       "      <td>0.041691</td>\n",
       "      <td>19.50324</td>\n",
       "      <td>0</td>\n",
       "      <td>1.27450</td>\n",
       "      <td>0.48367</td>\n",
       "      <td>0.27346</td>\n",
       "      <td>0.12991</td>\n",
       "    </tr>\n",
       "    <tr>\n",
       "      <th>1</th>\n",
       "      <td>185.729201</td>\n",
       "      <td>0.679704</td>\n",
       "      <td>-0.000814</td>\n",
       "      <td>20.34491</td>\n",
       "      <td>1</td>\n",
       "      <td>-0.32593</td>\n",
       "      <td>-0.42295</td>\n",
       "      <td>-0.31765</td>\n",
       "      <td>0.06614</td>\n",
       "    </tr>\n",
       "  </tbody>\n",
       "</table>\n",
       "</div>"
      ],
      "text/plain": [
       "           ra       dec  redshift  psfMag_r  class  u_g_color  g_r_color  \\\n",
       "0  184.950869  0.733068  0.041691  19.50324      0    1.27450    0.48367   \n",
       "1  185.729201  0.679704 -0.000814  20.34491      1   -0.32593   -0.42295   \n",
       "\n",
       "   r_i_color  i_z_color  \n",
       "0    0.27346    0.12991  \n",
       "1   -0.31765    0.06614  "
      ]
     },
     "execution_count": 13,
     "metadata": {},
     "output_type": "execute_result"
    }
   ],
   "source": [
    "df_2.head(2)"
   ]
  },
  {
   "cell_type": "markdown",
   "id": "e1be8e76",
   "metadata": {},
   "source": [
    "Moving the class column to the end"
   ]
  },
  {
   "cell_type": "code",
   "execution_count": 14,
   "id": "f3d1a893",
   "metadata": {},
   "outputs": [],
   "source": [
    "popped_class = df_2.pop(\"class\")\n",
    "df_2.insert(len(df_2.columns), \"class\", popped_class)"
   ]
  },
  {
   "cell_type": "code",
   "execution_count": 15,
   "id": "8a068db7",
   "metadata": {},
   "outputs": [
    {
     "data": {
      "text/html": [
       "<div>\n",
       "<style scoped>\n",
       "    .dataframe tbody tr th:only-of-type {\n",
       "        vertical-align: middle;\n",
       "    }\n",
       "\n",
       "    .dataframe tbody tr th {\n",
       "        vertical-align: top;\n",
       "    }\n",
       "\n",
       "    .dataframe thead th {\n",
       "        text-align: right;\n",
       "    }\n",
       "</style>\n",
       "<table border=\"1\" class=\"dataframe\">\n",
       "  <thead>\n",
       "    <tr style=\"text-align: right;\">\n",
       "      <th></th>\n",
       "      <th>ra</th>\n",
       "      <th>dec</th>\n",
       "      <th>redshift</th>\n",
       "      <th>psfMag_r</th>\n",
       "      <th>u_g_color</th>\n",
       "      <th>g_r_color</th>\n",
       "      <th>r_i_color</th>\n",
       "      <th>i_z_color</th>\n",
       "      <th>class</th>\n",
       "    </tr>\n",
       "  </thead>\n",
       "  <tbody>\n",
       "    <tr>\n",
       "      <th>0</th>\n",
       "      <td>184.950869</td>\n",
       "      <td>0.733068</td>\n",
       "      <td>0.041691</td>\n",
       "      <td>19.50324</td>\n",
       "      <td>1.27450</td>\n",
       "      <td>0.48367</td>\n",
       "      <td>0.27346</td>\n",
       "      <td>0.12991</td>\n",
       "      <td>0</td>\n",
       "    </tr>\n",
       "    <tr>\n",
       "      <th>1</th>\n",
       "      <td>185.729201</td>\n",
       "      <td>0.679704</td>\n",
       "      <td>-0.000814</td>\n",
       "      <td>20.34491</td>\n",
       "      <td>-0.32593</td>\n",
       "      <td>-0.42295</td>\n",
       "      <td>-0.31765</td>\n",
       "      <td>0.06614</td>\n",
       "      <td>1</td>\n",
       "    </tr>\n",
       "    <tr>\n",
       "      <th>2</th>\n",
       "      <td>185.687690</td>\n",
       "      <td>0.823480</td>\n",
       "      <td>0.113069</td>\n",
       "      <td>18.54832</td>\n",
       "      <td>1.38530</td>\n",
       "      <td>0.78298</td>\n",
       "      <td>0.44434</td>\n",
       "      <td>0.29830</td>\n",
       "      <td>0</td>\n",
       "    </tr>\n",
       "  </tbody>\n",
       "</table>\n",
       "</div>"
      ],
      "text/plain": [
       "           ra       dec  redshift  psfMag_r  u_g_color  g_r_color  r_i_color  \\\n",
       "0  184.950869  0.733068  0.041691  19.50324    1.27450    0.48367    0.27346   \n",
       "1  185.729201  0.679704 -0.000814  20.34491   -0.32593   -0.42295   -0.31765   \n",
       "2  185.687690  0.823480  0.113069  18.54832    1.38530    0.78298    0.44434   \n",
       "\n",
       "   i_z_color  class  \n",
       "0    0.12991      0  \n",
       "1    0.06614      1  \n",
       "2    0.29830      0  "
      ]
     },
     "execution_count": 15,
     "metadata": {},
     "output_type": "execute_result"
    }
   ],
   "source": [
    "df_2.head(3)"
   ]
  },
  {
   "cell_type": "markdown",
   "id": "a7cecb1c",
   "metadata": {},
   "source": [
    "Copying `df_2` into the main dataframe and separating feature and target columns"
   ]
  },
  {
   "cell_type": "code",
   "execution_count": 16,
   "id": "46fabf27",
   "metadata": {},
   "outputs": [
    {
     "data": {
      "text/plain": [
       "Index(['ra', 'dec', 'redshift', 'psfMag_r', 'u_g_color', 'g_r_color',\n",
       "       'r_i_color', 'i_z_color'],\n",
       "      dtype='object')"
      ]
     },
     "execution_count": 16,
     "metadata": {},
     "output_type": "execute_result"
    }
   ],
   "source": [
    "df = df_2.copy()\n",
    "x = df.iloc[:,:-1].to_numpy()\n",
    "y = df.iloc[:,-1].to_numpy()\n",
    "\n",
    "feature_columns = df.columns[:-1]\n",
    "feature_columns"
   ]
  },
  {
   "cell_type": "markdown",
   "id": "1b942afb",
   "metadata": {},
   "source": [
    "## ML Preprocessing, Model training, Evaluation "
   ]
  },
  {
   "cell_type": "markdown",
   "id": "9c32cdda",
   "metadata": {},
   "source": [
    "Performing train-test split"
   ]
  },
  {
   "cell_type": "code",
   "execution_count": 17,
   "id": "ee0761ba",
   "metadata": {},
   "outputs": [],
   "source": [
    "x_train,x_test,y_train,y_test = train_test_split(\n",
    "  x,y,test_size=2/10,random_state=120,shuffle=True,stratify=y)"
   ]
  },
  {
   "cell_type": "markdown",
   "id": "c936810f",
   "metadata": {},
   "source": [
    "Defining the pipeline and the model"
   ]
  },
  {
   "cell_type": "code",
   "execution_count": 18,
   "id": "f1dfdb0c",
   "metadata": {},
   "outputs": [],
   "source": [
    "# RF, SVC, LR, XGB\n",
    "rf_model = RandomForestClassifier(random_state=40)\n",
    "svc_model = SVC(random_state=41)\n",
    "lr_model = LogisticRegression(random_state=42,max_iter=10_000)\n",
    "xgb_model = XGBClassifier(random_state=43)\n",
    "\n",
    "pca = PCA(random_state=44)\n",
    "lda = LDA(n_components=2)\n",
    "\n",
    "pipe = Pipeline([\n",
    "  (\"impute\",SimpleImputer(strategy=\"median\")),\n",
    "  (\"scale\",StandardScaler()),\n",
    "  (\"smote\",SMOTE(random_state=101)),\n",
    "  (\"dimen\",pca),\n",
    "  (\"model\",rf_model)\n",
    "])"
   ]
  },
  {
   "cell_type": "markdown",
   "id": "f10e44ca",
   "metadata": {},
   "source": [
    "Performing Randomized Search CV"
   ]
  },
  {
   "cell_type": "code",
   "execution_count": 19,
   "id": "a729e0dc",
   "metadata": {},
   "outputs": [
    {
     "name": "stderr",
     "output_type": "stream",
     "text": [
      "/Users/Sakib/.venvs/jupyterfix/lib/python3.13/site-packages/joblib/externals/loky/process_executor.py:782: UserWarning: A worker stopped while some jobs were given to the executor. This can be caused by a too short worker timeout or by a memory leak.\n",
      "  warnings.warn(\n"
     ]
    },
    {
     "name": "stdout",
     "output_type": "stream",
     "text": [
      "Best Configuration:\n",
      "{'model__solver': 'saga', 'model__penalty': 'l1', 'model__C': 10, 'model': LogisticRegression(max_iter=10000, random_state=42), 'dimen': 'passthrough'}\n",
      "Best Score = 0.9758125\n"
     ]
    }
   ],
   "source": [
    "param_list = [\n",
    "  { # Random Forest, PCA On\n",
    "    \"model\": [rf_model],\"model__n_estimators\":np.arange(150,650,100),\n",
    "    \"model__max_depth\":np.arange(7,14,2), \"dimen\" : [pca], \"dimen__n_components\": np.arange(5,8,1)\n",
    "  },\n",
    "\n",
    "  # { # SVC, No dimen. reduction\n",
    "  #   \"model\": [svc_model], \"model__C\":[0.01,0.1,1,10], \"model__kernel\":[\"rbf\"], \"model__gamma\":[0.01,0.1,1,10],\n",
    "  #   \"dimen\":[\"passthrough\"]\n",
    "  # },\n",
    "\n",
    "  { # Logistic Regression, No dimen. reduction, l1 penalty, `saga` solver\n",
    "    \"model\": [lr_model], \"model__C\": [0.01,0.1,1,10], \"model__penalty\":[\"l1\"], \"model__solver\":[\"saga\"],\n",
    "    \"dimen\": [\"passthrough\"]\n",
    "  },\n",
    "  { # Logistic Regression, No dimen. reduction, l2 penalty, `lbfgs` solver\n",
    "    \"model\": [lr_model], \"model__C\": [0.01,0.1,1,10], \"model__penalty\":[\"l2\"], \"model__solver\":[\"lbfgs\"],\n",
    "    \"dimen\": [\"passthrough\"]\n",
    "  },\n",
    "  { # XGBoost, PCA On\n",
    "    \"dimen\": [pca], \"dimen__n_components\": np.arange(5,8,1),\n",
    "    \"model\": [xgb_model], \"model__n_estimators\" : np.linspace(500,1100,3,dtype=int),\"model__learning_rate\": [0.01,0.1], \"model__max_depth\":np.arange(7,14,3)\n",
    "  },\n",
    "  { # XGBoost, LDA On\n",
    "    \"dimen\": [lda],\n",
    "    \"model\": [xgb_model], \"model__n_estimators\" : [500,700,900],\"model__learning_rate\": [0.01,0.1], \"model__max_depth\":np.arange(7,14,3)\n",
    "  },\n",
    "  { # XGBoost, No dimen. reduction\n",
    "    \"dimen\": [\"passthrough\"],\n",
    "    \"model\": [xgb_model], \"model__n_estimators\" : [500,700,900],\"model__learning_rate\": [0.01,0.1], \"model__max_depth\":np.arange(7,14,3)\n",
    "  }\n",
    "]\n",
    "\n",
    "rscv = RandomizedSearchCV(\n",
    "  estimator=pipe,param_distributions=param_list,n_iter=8,cv=5,n_jobs=-1,random_state=50,refit=True\n",
    ")\n",
    "\n",
    "rscv.fit(x_train,y_train)\n",
    "estimator = rscv.best_estimator_\n",
    "score = rscv.best_score_\n",
    "config = rscv.best_params_\n",
    "print(f\"Best Configuration:\\n{config}\")\n",
    "print(f\"Best Score = {score}\")"
   ]
  },
  {
   "cell_type": "markdown",
   "id": "cff385ef",
   "metadata": {},
   "source": [
    "Now, let's calculate the **Classification Report**"
   ]
  },
  {
   "cell_type": "code",
   "execution_count": 20,
   "id": "7d46f1f5",
   "metadata": {},
   "outputs": [
    {
     "name": "stdout",
     "output_type": "stream",
     "text": [
      "              precision    recall  f1-score   support\n",
      "\n",
      "           0       0.99      0.96      0.98     10469\n",
      "           1       0.96      1.00      0.98      7446\n",
      "           2       0.96      0.96      0.96      2085\n",
      "\n",
      "    accuracy                           0.97     20000\n",
      "   macro avg       0.97      0.97      0.97     20000\n",
      "weighted avg       0.98      0.97      0.97     20000\n",
      "\n"
     ]
    }
   ],
   "source": [
    "y_true = y_test\n",
    "y_pred = rscv.predict(x_test)\n",
    "print(classification_report(y_true=y_true,y_pred=y_pred))"
   ]
  },
  {
   "cell_type": "markdown",
   "id": "ffed0a9f",
   "metadata": {},
   "source": [
    "As we can see, the overall accuracy decreased about 1% from before. But it is a huge win considering the simplicity we have successfully added by performing the feature reduction."
   ]
  },
  {
   "cell_type": "markdown",
   "id": "005924f6",
   "metadata": {},
   "source": [
    "## Summary"
   ]
  },
  {
   "cell_type": "markdown",
   "id": "dcaee361",
   "metadata": {},
   "source": [
    "In this notebook, we have explored how we can make the model suitable for user usage by reducing the number of features. We have seen that it has made the model a lot simplier by only sacrificing 1% accuracy. \n",
    "\n",
    "We will use the code from this notebook to write `fit.py` from the ground up. "
   ]
  }
 ],
 "metadata": {
  "kernelspec": {
   "display_name": "JupyterFix (Py3.13)",
   "language": "python",
   "name": "jupyterfix"
  },
  "language_info": {
   "codemirror_mode": {
    "name": "ipython",
    "version": 3
   },
   "file_extension": ".py",
   "mimetype": "text/x-python",
   "name": "python",
   "nbconvert_exporter": "python",
   "pygments_lexer": "ipython3",
   "version": "3.13.7"
  }
 },
 "nbformat": 4,
 "nbformat_minor": 5
}
